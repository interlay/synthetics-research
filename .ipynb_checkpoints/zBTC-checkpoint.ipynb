{
 "cells": [
  {
   "cell_type": "code",
   "execution_count": 1,
   "id": "e65b8343-b53c-4eec-bc81-12e2c8795dff",
   "metadata": {},
   "outputs": [],
   "source": [
    "import numpy as np"
   ]
  },
  {
   "cell_type": "code",
   "execution_count": 76,
   "id": "01545f22-7a97-4a16-8014-6feaf1b7f1c3",
   "metadata": {},
   "outputs": [],
   "source": [
    "# AMM variables\n",
    "k = 0\n",
    "\n",
    "pamm = {\n",
    "    \"sbtc\" : 0,\n",
    "    \"ibtc\" : 0\n",
    "}\n",
    "\n",
    "def reset():\n",
    "    pamm = {\n",
    "        \"sbtc\" : 0,\n",
    "        \"ibtc\" : 0\n",
    "    }\n",
    "\n",
    "def zbtc_supply():\n",
    "    return pamm[\"ibtc\"] + pamm[\"sbtc\"]\n",
    "\n",
    "def ibtc_sbtc_ratio():\n",
    "    return float(pamm[\"ibtc\"] / (pamm[\"ibtc\"] + pamm[\"sbtc\"]))\n"
   ]
  },
  {
   "cell_type": "code",
   "execution_count": 77,
   "id": "0519e542-ea97-4d9b-99cf-1e3b5495b1b0",
   "metadata": {},
   "outputs": [],
   "source": [
    "def mint_zBTC(sbtc, ibtc):\n",
    "    pamm[\"sbtc\"] += sbtc\n",
    "    pamm[\"ibtc\"] += ibtc\n",
    "    print(str(pamm))\n",
    "    \n",
    "def redeem_zbtc(zbtc):\n",
    "    pamm[\"sbtc\"] -= zbtc * ibtc_sbtc_ratio()\n",
    "    pamm[\"ibtc\"] -= zbtc * (1 - ibtc_sbtc_ratio())\n",
    "    print(str(pamm))\n",
    "    return {\"ibtc\": zbtc * ibtc_sbtc_ratio(), \"sbtc\": zbtc * (1 - ibtc_sbtc_ratio())}"
   ]
  },
  {
   "cell_type": "code",
   "execution_count": null,
   "id": "3a2f3222-1595-4308-a0e5-8a7b7be0f0a3",
   "metadata": {},
   "outputs": [],
   "source": []
  },
  {
   "cell_type": "code",
   "execution_count": 81,
   "id": "1d4aa840-580f-4cb5-814e-622437c0b387",
   "metadata": {},
   "outputs": [
    {
     "name": "stdout",
     "output_type": "stream",
     "text": [
      "{'sbtc': 47.52594688830923, 'ibtc': 44.49584975773863}\n",
      "{'sbtc': 47.04241090684076, 'ibtc': 43.98193993942543}\n",
      "{'sbtc': 50.04241090684076, 'ibtc': 45.98193993942543}\n"
     ]
    }
   ],
   "source": [
    "reset()\n",
    "mint_zBTC(10, 10)\n",
    "redeem_zbtc(1)\n",
    "mint_zBTC(3,2)"
   ]
  },
  {
   "cell_type": "code",
   "execution_count": null,
   "id": "ce741a2a-3fe7-4113-9931-3ddd2817a7cd",
   "metadata": {},
   "outputs": [],
   "source": []
  }
 ],
 "metadata": {
  "kernelspec": {
   "display_name": "Python 3 (ipykernel)",
   "language": "python",
   "name": "python3"
  },
  "language_info": {
   "codemirror_mode": {
    "name": "ipython",
    "version": 3
   },
   "file_extension": ".py",
   "mimetype": "text/x-python",
   "name": "python",
   "nbconvert_exporter": "python",
   "pygments_lexer": "ipython3",
   "version": "3.8.10"
  }
 },
 "nbformat": 4,
 "nbformat_minor": 5
}
