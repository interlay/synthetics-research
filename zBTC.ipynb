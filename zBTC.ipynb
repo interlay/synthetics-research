{
 "cells": [
  {
   "cell_type": "code",
   "execution_count": null,
   "id": "e65b8343-b53c-4eec-bc81-12e2c8795dff",
   "metadata": {},
   "outputs": [
    {
     "data": {
      "text/plain": [
       "'%.4f'"
      ]
     },
     "execution_count": 1,
     "metadata": {},
     "output_type": "execute_result"
    }
   ],
   "source": [
    "import numpy as np\n",
    "import matplotlib.pyplot as plt\n",
    "%precision 4"
   ]
  },
  {
   "cell_type": "code",
   "execution_count": 111,
   "id": "01545f22-7a97-4a16-8014-6feaf1b7f1c3",
   "metadata": {},
   "outputs": [],
   "source": [
    "# AMM for k = x * y\n",
    "# Override mint and redeem functions for custom functionality\n",
    "\n",
    "class Amm:\n",
    "\n",
    "    x = 0\n",
    "    y = 0\n",
    "    \n",
    "    x_name = \"\"\n",
    "    y_name = \"\"\n",
    "    z_name = \"\"\n",
    "    \n",
    "    init = False\n",
    "    x_init = 0\n",
    "    y_init = 0\n",
    "\n",
    "    def __init__(self, x_name, y_name, z_name):\n",
    "        self.x_name = x_name\n",
    "        self.y_name = y_name\n",
    "        self.z_name = z_name\n",
    "\n",
    "    # Helper functions\n",
    "\n",
    "    def reset(self):\n",
    "        self.x = 0\n",
    "        self.y = 0\n",
    "        self.amm_init = dict(amm)\n",
    "        self.init = False\n",
    "\n",
    "    def zbtc_supply(self):\n",
    "        return self.x + self.y\n",
    "\n",
    "    def get_x_ratio(self):\n",
    "        return self.x / (self.x + self.y)\n",
    "    \n",
    "    def get_x_exrate(self):\n",
    "        return self.x / self.y \n",
    "\n",
    "    def get_k(self):\n",
    "        return self.x * self.y\n",
    "\n",
    "    def get_init_k(self):\n",
    "        return self.x_init * self.y_init\n",
    "\n",
    "    def print_amm_state(self):\n",
    "        print(\"------------\")\n",
    "        print(\"AMM state:\")\n",
    "        print(\"{x_name}: {x}, {y_name}: {y}\".format(x_name = self.x_name, x = self.x, y_name = self.y_name, y = self.y))\n",
    "        print(\"ratio: \" + str(self.get_x_ratio()))\n",
    "        print(\"{x_name} price: {price} {y_name}\".format(x_name = self.x_name, price = self.get_x_exrate(), y_name = self.y_name))\n",
    "        print(\"k = {k}\".format(k = self.get_k()))\n",
    "        print(\"------------\")\n",
    "\n",
    "\n",
    "    def plot_amm(self):\n",
    "        fig = plt.figure()\n",
    "        xs = np.arange(0, self.x)\n",
    "        ys = [self.get_k() / x for x in xs]\n",
    "        plt.plot(x, y)\n",
    "\n",
    "        y_init = [self.get_init_k() / x for x in x]\n",
    "        plt.plot(x, y_init)\n",
    "        plt.show()\n",
    "        \n",
    "        \n",
    "    ## MINT FUNCTIONS\n",
    "    def mint(self, x, y):\n",
    "        self.x += x\n",
    "        self.y += y\n",
    "        if(self.init == False):\n",
    "            self.init = True\n",
    "            self.x_init = self.x\n",
    "            self.y_init = self.y\n",
    "        return x + y\n",
    "    \n",
    "    def redeem(self, z):\n",
    "        x_redeem = z * self.get_x_ratio()\n",
    "        y_redeem = z - x_redeem\n",
    "        \n",
    "        self.x -= x_redeem\n",
    "        self.y -= y_redeem\n",
    "\n",
    "        redeemed =  (x_redeem, y_redeem)\n",
    "        print(\"Redeem: {z} {z_name} for {redeemed}\".format(z = z, z_name = self.z_name, redeemed = redeemed))\n",
    "        return redeemed\n",
    "    \n",
    "    def swap_x(self, x):\n",
    "        y_return = self.get_x_exrate() * x\n",
    "        self.x += x\n",
    "        self.y -= y_return\n",
    "        return y_return\n",
    "        \n",
    "    def swap_y(self, y):\n",
    "        x_return = 1 / self.get_x_exrate() * y\n",
    "        self.y += y\n",
    "        self.x -= x_return\n",
    "        return x_return\n",
    "    \n",
    "    def get_x_slippage(self, x):\n",
    "        y_return = self.get_x_exrate() * x\n",
    "        x_new = self.x + x\n",
    "        y_new = self.y - y_return\n",
    "        x_price_new = x_new / y_new\n",
    "        return (x_price_new / self.get_x_exrate()) - 1\n",
    "        "
   ]
  },
  {
   "cell_type": "code",
   "execution_count": null,
   "id": "0519e542-ea97-4d9b-99cf-1e3b5495b1b0",
   "metadata": {},
   "outputs": [],
   "source": []
  },
  {
   "cell_type": "code",
   "execution_count": 120,
   "id": "3a2f3222-1595-4308-a0e5-8a7b7be0f0a3",
   "metadata": {},
   "outputs": [
    {
     "name": "stdout",
     "output_type": "stream",
     "text": [
      "------------\n",
      "AMM state:\n",
      "ibtc: 100, sbtc: 100\n",
      "ratio: 0.5\n",
      "ibtc price: 1.0 sbtc\n",
      "k = 10000\n",
      "------------\n",
      "2.0\n",
      "------------\n",
      "AMM state:\n",
      "ibtc: 102, sbtc: 98.0\n",
      "ratio: 0.51\n",
      "ibtc price: 1.0408163265306123 sbtc\n",
      "k = 9996.0\n",
      "------------\n",
      "1.9215686274509802\n",
      "------------\n",
      "AMM state:\n",
      "ibtc: 100.07843137254902, sbtc: 100.0\n",
      "ratio: 0.5001960015680126\n",
      "ibtc price: 1.0007843137254901 sbtc\n",
      "k = 10007.843137254902\n",
      "------------\n"
     ]
    }
   ],
   "source": [
    "pamm = Amm(\"ibtc\", \"sbtc\", \"zbtc\")\n",
    "\n",
    "pamm.mint(100,100)\n",
    "pamm.print_amm_state()\n",
    "\n",
    "print(pamm.swap_x(2))\n",
    "pamm.print_amm_state()\n",
    "print(pamm.swap_y(2))\n",
    "pamm.print_amm_state()"
   ]
  },
  {
   "cell_type": "code",
   "execution_count": 114,
   "id": "1d4aa840-580f-4cb5-814e-622437c0b387",
   "metadata": {},
   "outputs": [
    {
     "name": "stdout",
     "output_type": "stream",
     "text": [
      "0.021515064836003184\n"
     ]
    }
   ],
   "source": [
    "print(pamm.get_x_slippage(1))\n"
   ]
  },
  {
   "cell_type": "code",
   "execution_count": null,
   "id": "0ff4ba3f-d563-428a-9664-81c319186615",
   "metadata": {},
   "outputs": [],
   "source": []
  },
  {
   "cell_type": "code",
   "execution_count": 314,
   "id": "0aee50d5-468c-4036-bbb4-e42091964ca8",
   "metadata": {},
   "outputs": [
    {
     "data": {
      "text/plain": [
       "{'sbtc': 0, 'ibtc': 0}"
      ]
     },
     "execution_count": 314,
     "metadata": {},
     "output_type": "execute_result"
    }
   ],
   "source": [
    "amm_init"
   ]
  },
  {
   "cell_type": "code",
   "execution_count": 315,
   "id": "9044ffd4-f4c5-40fd-b51c-1772bb54f23d",
   "metadata": {},
   "outputs": [
    {
     "data": {
      "image/png": "[encoded data removed]",
      "text/plain": [
       "<Figure size 432x288 with 1 Axes>"
      ]
     },
     "metadata": {
      "needs_background": "light"
     },
     "output_type": "display_data"
    }
   ],
   "source": [
    "fig = plt.figure()\n",
    "if amm[\"ibtc\"] > 1:\n",
    "    x = np.arange(1, amm[\"ibtc\"])\n",
    "else: \n",
    "    x = np.arange(0.01, amm[\"ibtc\"], 0.01)\n",
    "y = [get_k() / x for x in x]\n",
    "plt.plot(x, y)\n",
    "\n",
    "y_init = [get_init_k() / x for x in x]\n",
    "plt.plot(x, y_init)\n",
    "\n",
    "plt.show()"
   ]
  },
  {
   "cell_type": "code",
   "execution_count": null,
   "id": "ce741a2a-3fe7-4113-9931-3ddd2817a7cd",
   "metadata": {},
   "outputs": [],
   "source": []
  },
  {
   "cell_type": "code",
   "execution_count": null,
   "id": "30492b9d-ebc7-44a3-b61d-2314f68d665f",
   "metadata": {},
   "outputs": [],
   "source": []
  }
 ],
 "metadata": {
  "kernelspec": {
   "display_name": "Python 3 (ipykernel)",
   "language": "python",
   "name": "python3"
  },
  "language_info": {
   "codemirror_mode": {
    "name": "ipython",
    "version": 3
   },
   "file_extension": ".py",
   "mimetype": "text/x-python",
   "name": "python",
   "nbconvert_exporter": "python",
   "pygments_lexer": "ipython3",
   "version": "3.8.10"
  }
 },
 "nbformat": 4,
 "nbformat_minor": 5
}
