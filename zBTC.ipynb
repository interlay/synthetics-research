{
 "cells": [
  {
   "cell_type": "code",
   "execution_count": 46,
   "id": "e65b8343-b53c-4eec-bc81-12e2c8795dff",
   "metadata": {},
   "outputs": [
    {
     "data": {
      "text/plain": [
       "'%.4f'"
      ]
     },
     "execution_count": 46,
     "metadata": {},
     "output_type": "execute_result"
    }
   ],
   "source": [
    "import numpy as np#\n",
    "import matplotlib.pyplot as plt\n",
    "%precision 4"
   ]
  },
  {
   "cell_type": "code",
   "execution_count": 54,
   "id": "01545f22-7a97-4a16-8014-6feaf1b7f1c3",
   "metadata": {},
   "outputs": [],
   "source": [
    "# AMM for k = x * y\n",
    "# Override mint and redeem functions for custom functionality\n",
    "\n",
    "class Amm:\n",
    "\n",
    "    x = 0\n",
    "    y = 0\n",
    "    \n",
    "    x_name = \"\"\n",
    "    y_name = \"\"\n",
    "    z_name = \"\"\n",
    "    \n",
    "    init = False\n",
    "    x_init = 0\n",
    "    y_init = 0\n",
    "\n",
    "    def __init__(self, x_name, y_name, z_name):\n",
    "        self.x_name = x_name\n",
    "        self.y_name = y_name\n",
    "        self.z_name = z_name\n",
    "\n",
    "    # Helper functions\n",
    "\n",
    "    def reset(self):\n",
    "        self.x = 0\n",
    "        self.y = 0\n",
    "        self.amm_init = dict(amm)\n",
    "        self.init = False\n",
    "\n",
    "    def zbtc_supply(self):\n",
    "        return self.x + self.y\n",
    "\n",
    "    def get_x_ratio(self):\n",
    "        return self.x / (self.x + self.y)\n",
    "    \n",
    "    def get_x_exrate(self):\n",
    "        return self.x / self.y \n",
    "\n",
    "    def get_k(self):\n",
    "        return self.x * self.y\n",
    "\n",
    "    def get_init_k(self):\n",
    "        return self.x_init * self.y_init\n",
    "\n",
    "    def print_amm_state(self):\n",
    "        print(\"------------\")\n",
    "        print(\"AMM state:\")\n",
    "        print(\"{x_name}: {x}, {y_name}: {y}\".format(x_name = self.x_name, x = self.x, y_name = self.y_name, y = self.y))\n",
    "        print(\"ratio: \" + str(self.get_x_ratio()))\n",
    "        print(\"{x_name} price: {price} {y_name}\".format(x_name = self.x_name, price = self.get_x_exrate(), y_name = self.y_name))\n",
    "        print(\"k = {k}\".format(k = self.get_k()))\n",
    "        print(\"------------\")\n",
    "\n",
    "\n",
    "    def plot_amm(self):\n",
    "        fig = plt.figure()\n",
    "        xs = np.arange(1, self.x)\n",
    "        ys = [self.get_k() / x for x in xs]\n",
    "        plt.plot(xs, ys, \"Latest\")\n",
    "\n",
    "        y_inits = [self.get_init_k() / x for x in xs]\n",
    "        plt.plot(xs, y_inits, \"Initial curve\")\n",
    "        plt.show()\n",
    "        \n",
    "        \n",
    "    ## MINT FUNCTIONS\n",
    "    \"\"\"\n",
    "    Mint new z LP tokens by shifting the curve as defined by x and y parameters.\n",
    "    Returns: amount of z tokens minted (always x + y in this model)\n",
    "    \"\"\"\n",
    "    def mint(self, x, y):\n",
    "        self.x += x\n",
    "        self.y += y\n",
    "        if(self.init == False):\n",
    "            self.init = True\n",
    "            self.x_init = self.x\n",
    "            self.y_init = self.y\n",
    "        return x + y\n",
    "    \n",
    "    def redeem(self, z):\n",
    "        x_redeem = z * self.get_x_ratio()\n",
    "        y_redeem = z - x_redeem\n",
    "        \n",
    "        self.x -= x_redeem\n",
    "        self.y -= y_redeem\n",
    "\n",
    "        redeemed =  (x_redeem, y_redeem)\n",
    "        print(\"Redeem: {z} {z_name} for {redeemed}\".format(z = z, z_name = self.z_name, redeemed = redeemed))\n",
    "        return redeemed\n",
    "    \n",
    "    def swap_x(self, x):\n",
    "        x_new = self.x + x\n",
    "        y_new = self.get_k() / x_new\n",
    "        y_ret = self.y - y_new \n",
    "        slippage = (self.y - y_new) / self.y\n",
    "        self.y = y_new\n",
    "        self.x = x_new\n",
    "        return (y_ret, slippage)\n",
    "        \n",
    "    \"\"\"\n",
    "    Swap x for y by moving along the curve.\n",
    "    Returns tupple of y received in return and slippage\n",
    "    \"\"\"\n",
    "    def swap_y(self, y):\n",
    "        y_new = self.y + y\n",
    "        x_new = self.get_k() / y_new\n",
    "        x_ret = self.x - x_new \n",
    "        slippage = (self.x - x_new) / self.x\n",
    "        self.x = x_new\n",
    "        self.y = y_new\n",
    "        return (x_ret, slippage)\n",
    "        \n",
    "        "
   ]
  },
  {
   "cell_type": "code",
   "execution_count": null,
   "id": "0519e542-ea97-4d9b-99cf-1e3b5495b1b0",
   "metadata": {},
   "outputs": [],
   "source": []
  },
  {
   "cell_type": "code",
   "execution_count": 57,
   "id": "3a2f3222-1595-4308-a0e5-8a7b7be0f0a3",
   "metadata": {},
   "outputs": [
    {
     "name": "stdout",
     "output_type": "stream",
     "text": [
      "------------\n",
      "AMM state:\n",
      "ibtc: 100, sbtc: 100\n",
      "ratio: 0.5\n",
      "ibtc price: 1.0 sbtc\n",
      "k = 10000\n",
      "------------\n",
      "(1.9607843137254832, 0.019607843137254832)\n",
      "------------\n",
      "AMM state:\n",
      "ibtc: 102, sbtc: 98.03921568627452\n",
      "ratio: 0.5099000196039991\n",
      "ibtc price: 1.0404 sbtc\n",
      "k = 10000.0\n",
      "------------\n",
      "(3.028527071608778, 0.02969144187851743)\n",
      "------------\n",
      "AMM state:\n",
      "ibtc: 98.97147292839122, sbtc: 101.03921568627452\n",
      "ratio: 0.4948309193568476\n",
      "ibtc price: 0.9795352453615277 sbtc\n",
      "k = 10000.0\n",
      "------------\n"
     ]
    },
    {
     "data": {
      "image/png": "[encoded data removed]",
      "text/plain": [
       "<Figure size 432x288 with 1 Axes>"
      ]
     },
     "metadata": {
      "needs_background": "light"
     },
     "output_type": "display_data"
    }
   ],
   "source": [
    "pamm = Amm(\"ibtc\", \"sbtc\", \"zbtc\")\n",
    "\n",
    "pamm.mint(100,100)\n",
    "pamm.print_amm_state()\n",
    "\n",
    "print(pamm.swap_x(2))\n",
    "pamm.print_amm_state()\n",
    "\n",
    "print(pamm.swap_y(3))\n",
    "pamm.print_amm_state()\n",
    "\n",
    "pamm.mint(100,5)\n",
    "pamm.plot_amm()"
   ]
  },
  {
   "cell_type": "code",
   "execution_count": null,
   "id": "9044ffd4-f4c5-40fd-b51c-1772bb54f23d",
   "metadata": {},
   "outputs": [],
   "source": []
  },
  {
   "cell_type": "code",
   "execution_count": null,
   "id": "ce741a2a-3fe7-4113-9931-3ddd2817a7cd",
   "metadata": {},
   "outputs": [],
   "source": []
  },
  {
   "cell_type": "code",
   "execution_count": null,
   "id": "30492b9d-ebc7-44a3-b61d-2314f68d665f",
   "metadata": {},
   "outputs": [],
   "source": []
  }
 ],
 "metadata": {
  "kernelspec": {
   "display_name": "Python 3 (ipykernel)",
   "language": "python",
   "name": "python3"
  },
  "language_info": {
   "codemirror_mode": {
    "name": "ipython",
    "version": 3
   },
   "file_extension": ".py",
   "mimetype": "text/x-python",
   "name": "python",
   "nbconvert_exporter": "python",
   "pygments_lexer": "ipython3",
   "version": "3.8.10"
  }
 },
 "nbformat": 4,
 "nbformat_minor": 5
}
